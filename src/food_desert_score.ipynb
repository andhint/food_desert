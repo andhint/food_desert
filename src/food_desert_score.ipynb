{
 "cells": [
  {
   "cell_type": "code",
   "execution_count": 198,
   "metadata": {},
   "outputs": [],
   "source": [
    "import pandas as pd\n",
    "import geopandas as gpd\n",
    "import matplotlib.pyplot as plt\n",
    "from shapely.geometry import Point\n",
    "import numpy as np"
   ]
  },
  {
   "cell_type": "markdown",
   "metadata": {},
   "source": [
    "## Read in grid"
   ]
  },
  {
   "cell_type": "code",
   "execution_count": 184,
   "metadata": {},
   "outputs": [],
   "source": [
    "grid = gpd.read_file('../data/interim/square_grid.geojson')"
   ]
  },
  {
   "cell_type": "code",
   "execution_count": 185,
   "metadata": {},
   "outputs": [],
   "source": [
    "grid['centroid'] = grid.geometry.centroid"
   ]
  },
  {
   "cell_type": "code",
   "execution_count": 186,
   "metadata": {},
   "outputs": [
    {
     "data": {
      "text/html": [
       "<div>\n",
       "<style scoped>\n",
       "    .dataframe tbody tr th:only-of-type {\n",
       "        vertical-align: middle;\n",
       "    }\n",
       "\n",
       "    .dataframe tbody tr th {\n",
       "        vertical-align: top;\n",
       "    }\n",
       "\n",
       "    .dataframe thead th {\n",
       "        text-align: right;\n",
       "    }\n",
       "</style>\n",
       "<table border=\"1\" class=\"dataframe\">\n",
       "  <thead>\n",
       "    <tr style=\"text-align: right;\">\n",
       "      <th></th>\n",
       "      <th>geometry</th>\n",
       "      <th>centroid</th>\n",
       "    </tr>\n",
       "  </thead>\n",
       "  <tbody>\n",
       "    <tr>\n",
       "      <th>0</th>\n",
       "      <td>POLYGON ((-78.919453 42.826039, -78.919453 42....</td>\n",
       "      <td>POINT (-78.91765636943175 42.82735665851042)</td>\n",
       "    </tr>\n",
       "    <tr>\n",
       "      <th>1</th>\n",
       "      <td>POLYGON ((-78.919453 42.82867431702084, -78.91...</td>\n",
       "      <td>POINT (-78.91765636943175 42.82999191935585)</td>\n",
       "    </tr>\n",
       "    <tr>\n",
       "      <th>2</th>\n",
       "      <td>POLYGON ((-78.919453 42.83130952169087, -78.91...</td>\n",
       "      <td>POINT (-78.91765636943177 42.83262706785007)</td>\n",
       "    </tr>\n",
       "    <tr>\n",
       "      <th>3</th>\n",
       "      <td>POLYGON ((-78.919453 42.83394461400928, -78.91...</td>\n",
       "      <td>POINT (-78.91765636943177 42.83526210399228)</td>\n",
       "    </tr>\n",
       "    <tr>\n",
       "      <th>4</th>\n",
       "      <td>POLYGON ((-78.919453 42.83657959397529, -78.91...</td>\n",
       "      <td>POINT (-78.91765636943175 42.8378970277817)</td>\n",
       "    </tr>\n",
       "  </tbody>\n",
       "</table>\n",
       "</div>"
      ],
      "text/plain": [
       "                                            geometry  \\\n",
       "0  POLYGON ((-78.919453 42.826039, -78.919453 42....   \n",
       "1  POLYGON ((-78.919453 42.82867431702084, -78.91...   \n",
       "2  POLYGON ((-78.919453 42.83130952169087, -78.91...   \n",
       "3  POLYGON ((-78.919453 42.83394461400928, -78.91...   \n",
       "4  POLYGON ((-78.919453 42.83657959397529, -78.91...   \n",
       "\n",
       "                                       centroid  \n",
       "0  POINT (-78.91765636943175 42.82735665851042)  \n",
       "1  POINT (-78.91765636943175 42.82999191935585)  \n",
       "2  POINT (-78.91765636943177 42.83262706785007)  \n",
       "3  POINT (-78.91765636943177 42.83526210399228)  \n",
       "4   POINT (-78.91765636943175 42.8378970277817)  "
      ]
     },
     "execution_count": 186,
     "metadata": {},
     "output_type": "execute_result"
    }
   ],
   "source": [
    "grid.head()"
   ]
  },
  {
   "cell_type": "markdown",
   "metadata": {},
   "source": [
    "## Read in store locations"
   ]
  },
  {
   "cell_type": "code",
   "execution_count": 188,
   "metadata": {},
   "outputs": [
    {
     "data": {
      "text/html": [
       "<div>\n",
       "<style scoped>\n",
       "    .dataframe tbody tr th:only-of-type {\n",
       "        vertical-align: middle;\n",
       "    }\n",
       "\n",
       "    .dataframe tbody tr th {\n",
       "        vertical-align: top;\n",
       "    }\n",
       "\n",
       "    .dataframe thead th {\n",
       "        text-align: right;\n",
       "    }\n",
       "</style>\n",
       "<table border=\"1\" class=\"dataframe\">\n",
       "  <thead>\n",
       "    <tr style=\"text-align: right;\">\n",
       "      <th></th>\n",
       "      <th>id</th>\n",
       "      <th>type</th>\n",
       "      <th>store_name</th>\n",
       "      <th>shop_type</th>\n",
       "      <th>store_lat</th>\n",
       "      <th>store_lon</th>\n",
       "      <th>full_address</th>\n",
       "      <th>produce</th>\n",
       "      <th>price</th>\n",
       "    </tr>\n",
       "  </thead>\n",
       "  <tbody>\n",
       "    <tr>\n",
       "      <th>0</th>\n",
       "      <td>264775884</td>\n",
       "      <td>node</td>\n",
       "      <td>NaN</td>\n",
       "      <td>convenience</td>\n",
       "      <td>42.899507</td>\n",
       "      <td>-78.878870</td>\n",
       "      <td>NaN</td>\n",
       "      <td>False</td>\n",
       "      <td>2</td>\n",
       "    </tr>\n",
       "    <tr>\n",
       "      <th>1</th>\n",
       "      <td>265837170</td>\n",
       "      <td>node</td>\n",
       "      <td>Holly Farms</td>\n",
       "      <td>convenience</td>\n",
       "      <td>42.899564</td>\n",
       "      <td>-78.878780</td>\n",
       "      <td>NaN</td>\n",
       "      <td>False</td>\n",
       "      <td>3</td>\n",
       "    </tr>\n",
       "    <tr>\n",
       "      <th>2</th>\n",
       "      <td>414392643</td>\n",
       "      <td>node</td>\n",
       "      <td>Lexington Co-op</td>\n",
       "      <td>organic</td>\n",
       "      <td>42.919124</td>\n",
       "      <td>-78.876707</td>\n",
       "      <td>NaN</td>\n",
       "      <td>True</td>\n",
       "      <td>3</td>\n",
       "    </tr>\n",
       "    <tr>\n",
       "      <th>3</th>\n",
       "      <td>566210891</td>\n",
       "      <td>node</td>\n",
       "      <td>Dash's Market</td>\n",
       "      <td>supermarket</td>\n",
       "      <td>42.947850</td>\n",
       "      <td>-78.842669</td>\n",
       "      <td>NaN</td>\n",
       "      <td>True</td>\n",
       "      <td>3</td>\n",
       "    </tr>\n",
       "    <tr>\n",
       "      <th>4</th>\n",
       "      <td>629520975</td>\n",
       "      <td>node</td>\n",
       "      <td>Save-a-Lot</td>\n",
       "      <td>supermarket</td>\n",
       "      <td>42.958737</td>\n",
       "      <td>-78.878993</td>\n",
       "      <td>NaN</td>\n",
       "      <td>True</td>\n",
       "      <td>2</td>\n",
       "    </tr>\n",
       "  </tbody>\n",
       "</table>\n",
       "</div>"
      ],
      "text/plain": [
       "          id  type       store_name    shop_type  store_lat  store_lon  \\\n",
       "0  264775884  node              NaN  convenience  42.899507 -78.878870   \n",
       "1  265837170  node      Holly Farms  convenience  42.899564 -78.878780   \n",
       "2  414392643  node  Lexington Co-op      organic  42.919124 -78.876707   \n",
       "3  566210891  node    Dash's Market  supermarket  42.947850 -78.842669   \n",
       "4  629520975  node       Save-a-Lot  supermarket  42.958737 -78.878993   \n",
       "\n",
       "  full_address  produce  price  \n",
       "0          NaN    False      2  \n",
       "1          NaN    False      3  \n",
       "2          NaN     True      3  \n",
       "3          NaN     True      3  \n",
       "4          NaN     True      2  "
      ]
     },
     "execution_count": 188,
     "metadata": {},
     "output_type": "execute_result"
    }
   ],
   "source": [
    "df = pd.read_csv('../data/raw/store_locations.csv')\n",
    "df.head()"
   ]
  },
  {
   "cell_type": "code",
   "execution_count": 189,
   "metadata": {},
   "outputs": [],
   "source": [
    "# create stores geodataframe\n",
    "geometry = [Point(xy) for xy in zip(df['store_lon'], df['store_lat'])]\n",
    "df = df.drop(['store_lon', 'store_lat'], axis=1)\n",
    "crs = {'init': 'epsg:4326'}\n",
    "stores = gpd.GeoDataFrame(df, crs=crs, geometry=geometry)"
   ]
  },
  {
   "cell_type": "code",
   "execution_count": 190,
   "metadata": {},
   "outputs": [
    {
     "data": {
      "text/html": [
       "<div>\n",
       "<style scoped>\n",
       "    .dataframe tbody tr th:only-of-type {\n",
       "        vertical-align: middle;\n",
       "    }\n",
       "\n",
       "    .dataframe tbody tr th {\n",
       "        vertical-align: top;\n",
       "    }\n",
       "\n",
       "    .dataframe thead th {\n",
       "        text-align: right;\n",
       "    }\n",
       "</style>\n",
       "<table border=\"1\" class=\"dataframe\">\n",
       "  <thead>\n",
       "    <tr style=\"text-align: right;\">\n",
       "      <th></th>\n",
       "      <th>id</th>\n",
       "      <th>type</th>\n",
       "      <th>store_name</th>\n",
       "      <th>shop_type</th>\n",
       "      <th>full_address</th>\n",
       "      <th>produce</th>\n",
       "      <th>price</th>\n",
       "      <th>geometry</th>\n",
       "    </tr>\n",
       "  </thead>\n",
       "  <tbody>\n",
       "    <tr>\n",
       "      <th>0</th>\n",
       "      <td>264775884</td>\n",
       "      <td>node</td>\n",
       "      <td>NaN</td>\n",
       "      <td>convenience</td>\n",
       "      <td>NaN</td>\n",
       "      <td>False</td>\n",
       "      <td>2</td>\n",
       "      <td>POINT (-78.87887009999999 42.8995073)</td>\n",
       "    </tr>\n",
       "    <tr>\n",
       "      <th>1</th>\n",
       "      <td>265837170</td>\n",
       "      <td>node</td>\n",
       "      <td>Holly Farms</td>\n",
       "      <td>convenience</td>\n",
       "      <td>NaN</td>\n",
       "      <td>False</td>\n",
       "      <td>3</td>\n",
       "      <td>POINT (-78.87877979999999 42.8995639)</td>\n",
       "    </tr>\n",
       "    <tr>\n",
       "      <th>2</th>\n",
       "      <td>414392643</td>\n",
       "      <td>node</td>\n",
       "      <td>Lexington Co-op</td>\n",
       "      <td>organic</td>\n",
       "      <td>NaN</td>\n",
       "      <td>True</td>\n",
       "      <td>3</td>\n",
       "      <td>POINT (-78.8767071 42.91912429999999)</td>\n",
       "    </tr>\n",
       "    <tr>\n",
       "      <th>3</th>\n",
       "      <td>566210891</td>\n",
       "      <td>node</td>\n",
       "      <td>Dash's Market</td>\n",
       "      <td>supermarket</td>\n",
       "      <td>NaN</td>\n",
       "      <td>True</td>\n",
       "      <td>3</td>\n",
       "      <td>POINT (-78.8426688 42.9478503)</td>\n",
       "    </tr>\n",
       "    <tr>\n",
       "      <th>4</th>\n",
       "      <td>629520975</td>\n",
       "      <td>node</td>\n",
       "      <td>Save-a-Lot</td>\n",
       "      <td>supermarket</td>\n",
       "      <td>NaN</td>\n",
       "      <td>True</td>\n",
       "      <td>2</td>\n",
       "      <td>POINT (-78.87899279999999 42.9587374)</td>\n",
       "    </tr>\n",
       "  </tbody>\n",
       "</table>\n",
       "</div>"
      ],
      "text/plain": [
       "          id  type       store_name    shop_type full_address  produce  price  \\\n",
       "0  264775884  node              NaN  convenience          NaN    False      2   \n",
       "1  265837170  node      Holly Farms  convenience          NaN    False      3   \n",
       "2  414392643  node  Lexington Co-op      organic          NaN     True      3   \n",
       "3  566210891  node    Dash's Market  supermarket          NaN     True      3   \n",
       "4  629520975  node       Save-a-Lot  supermarket          NaN     True      2   \n",
       "\n",
       "                                geometry  \n",
       "0  POINT (-78.87887009999999 42.8995073)  \n",
       "1  POINT (-78.87877979999999 42.8995639)  \n",
       "2  POINT (-78.8767071 42.91912429999999)  \n",
       "3         POINT (-78.8426688 42.9478503)  \n",
       "4  POINT (-78.87899279999999 42.9587374)  "
      ]
     },
     "execution_count": 190,
     "metadata": {},
     "output_type": "execute_result"
    }
   ],
   "source": [
    "stores.head()"
   ]
  },
  {
   "cell_type": "code",
   "execution_count": 191,
   "metadata": {},
   "outputs": [],
   "source": [
    "def haversine(lat1, lon1, lat2, lon2):\n",
    "    MILES = 3959\n",
    "    lat1, lon1, lat2, lon2 = map(np.deg2rad, [lat1, lon1, lat2, lon2])\n",
    "    dlat = lat2 - lat1 \n",
    "    dlon = lon2 - lon1 \n",
    "    a = np.sin(dlat/2)**2 + np.cos(lat1) * np.cos(lat2) * np.sin(dlon/2)**2\n",
    "    c = 2 * np.arcsin(np.sqrt(a)) \n",
    "    total_miles = MILES * c\n",
    "    return total_miles"
   ]
  },
  {
   "cell_type": "code",
   "execution_count": 192,
   "metadata": {},
   "outputs": [],
   "source": [
    "def number_within_radius(grid_square, stores, radius):\n",
    "    distances = haversine(grid_square.centroid.y, grid_square.centroid.x, stores.geometry.y, stores.geometry.x)\n",
    "    return (distances < radius).sum()"
   ]
  },
  {
   "cell_type": "code",
   "execution_count": 193,
   "metadata": {},
   "outputs": [],
   "source": [
    "grid['number_options'] = grid.apply(number_within_radius, stores=stores, radius=1, axis=1)"
   ]
  },
  {
   "cell_type": "code",
   "execution_count": 194,
   "metadata": {},
   "outputs": [],
   "source": [
    "grid['number_options_produce'] = grid.apply(number_within_radius, stores=stores[stores['produce']==True], radius=1, axis=1)"
   ]
  },
  {
   "cell_type": "code",
   "execution_count": 195,
   "metadata": {},
   "outputs": [
    {
     "data": {
      "text/html": [
       "<div>\n",
       "<style scoped>\n",
       "    .dataframe tbody tr th:only-of-type {\n",
       "        vertical-align: middle;\n",
       "    }\n",
       "\n",
       "    .dataframe tbody tr th {\n",
       "        vertical-align: top;\n",
       "    }\n",
       "\n",
       "    .dataframe thead th {\n",
       "        text-align: right;\n",
       "    }\n",
       "</style>\n",
       "<table border=\"1\" class=\"dataframe\">\n",
       "  <thead>\n",
       "    <tr style=\"text-align: right;\">\n",
       "      <th></th>\n",
       "      <th>geometry</th>\n",
       "      <th>centroid</th>\n",
       "      <th>number_options</th>\n",
       "      <th>number_options_produce</th>\n",
       "    </tr>\n",
       "  </thead>\n",
       "  <tbody>\n",
       "    <tr>\n",
       "      <th>0</th>\n",
       "      <td>POLYGON ((-78.919453 42.826039, -78.919453 42....</td>\n",
       "      <td>POINT (-78.91765636943175 42.82735665851042)</td>\n",
       "      <td>0</td>\n",
       "      <td>0</td>\n",
       "    </tr>\n",
       "    <tr>\n",
       "      <th>1</th>\n",
       "      <td>POLYGON ((-78.919453 42.82867431702084, -78.91...</td>\n",
       "      <td>POINT (-78.91765636943175 42.82999191935585)</td>\n",
       "      <td>0</td>\n",
       "      <td>0</td>\n",
       "    </tr>\n",
       "    <tr>\n",
       "      <th>2</th>\n",
       "      <td>POLYGON ((-78.919453 42.83130952169087, -78.91...</td>\n",
       "      <td>POINT (-78.91765636943177 42.83262706785007)</td>\n",
       "      <td>0</td>\n",
       "      <td>0</td>\n",
       "    </tr>\n",
       "    <tr>\n",
       "      <th>3</th>\n",
       "      <td>POLYGON ((-78.919453 42.83394461400928, -78.91...</td>\n",
       "      <td>POINT (-78.91765636943177 42.83526210399228)</td>\n",
       "      <td>0</td>\n",
       "      <td>0</td>\n",
       "    </tr>\n",
       "    <tr>\n",
       "      <th>4</th>\n",
       "      <td>POLYGON ((-78.919453 42.83657959397529, -78.91...</td>\n",
       "      <td>POINT (-78.91765636943175 42.8378970277817)</td>\n",
       "      <td>0</td>\n",
       "      <td>0</td>\n",
       "    </tr>\n",
       "  </tbody>\n",
       "</table>\n",
       "</div>"
      ],
      "text/plain": [
       "                                            geometry  \\\n",
       "0  POLYGON ((-78.919453 42.826039, -78.919453 42....   \n",
       "1  POLYGON ((-78.919453 42.82867431702084, -78.91...   \n",
       "2  POLYGON ((-78.919453 42.83130952169087, -78.91...   \n",
       "3  POLYGON ((-78.919453 42.83394461400928, -78.91...   \n",
       "4  POLYGON ((-78.919453 42.83657959397529, -78.91...   \n",
       "\n",
       "                                       centroid  number_options  \\\n",
       "0  POINT (-78.91765636943175 42.82735665851042)               0   \n",
       "1  POINT (-78.91765636943175 42.82999191935585)               0   \n",
       "2  POINT (-78.91765636943177 42.83262706785007)               0   \n",
       "3  POINT (-78.91765636943177 42.83526210399228)               0   \n",
       "4   POINT (-78.91765636943175 42.8378970277817)               0   \n",
       "\n",
       "   number_options_produce  \n",
       "0                       0  \n",
       "1                       0  \n",
       "2                       0  \n",
       "3                       0  \n",
       "4                       0  "
      ]
     },
     "execution_count": 195,
     "metadata": {},
     "output_type": "execute_result"
    }
   ],
   "source": [
    "grid.head()"
   ]
  },
  {
   "cell_type": "code",
   "execution_count": 196,
   "metadata": {},
   "outputs": [
    {
     "data": {
      "image/png": "[encoded data removed]",
      "text/plain": [
       "<Figure size 432x288 with 1 Axes>"
      ]
     },
     "metadata": {
      "needs_background": "light"
     },
     "output_type": "display_data"
    }
   ],
   "source": [
    "grid.plot(column='number_options_produce')\n",
    "plt.show()"
   ]
  },
  {
   "cell_type": "code",
   "execution_count": 197,
   "metadata": {},
   "outputs": [
    {
     "data": {
      "image/png": "[encoded data removed]",
      "text/plain": [
       "<Figure size 432x288 with 1 Axes>"
      ]
     },
     "metadata": {
      "needs_background": "light"
     },
     "output_type": "display_data"
    }
   ],
   "source": [
    "grid.plot(column='number_options')\n",
    "plt.show()"
   ]
  },
  {
   "cell_type": "code",
   "execution_count": 180,
   "metadata": {},
   "outputs": [
    {
     "data": {
      "text/html": [
       "<div>\n",
       "<style scoped>\n",
       "    .dataframe tbody tr th:only-of-type {\n",
       "        vertical-align: middle;\n",
       "    }\n",
       "\n",
       "    .dataframe tbody tr th {\n",
       "        vertical-align: top;\n",
       "    }\n",
       "\n",
       "    .dataframe thead th {\n",
       "        text-align: right;\n",
       "    }\n",
       "</style>\n",
       "<table border=\"1\" class=\"dataframe\">\n",
       "  <thead>\n",
       "    <tr style=\"text-align: right;\">\n",
       "      <th></th>\n",
       "      <th>my_value</th>\n",
       "      <th>geometry</th>\n",
       "      <th>centroid</th>\n",
       "      <th>number_options</th>\n",
       "      <th>number_options_produce</th>\n",
       "    </tr>\n",
       "  </thead>\n",
       "  <tbody>\n",
       "    <tr>\n",
       "      <th>0</th>\n",
       "      <td>4</td>\n",
       "      <td>POLYGON ((-78.919453 42.826039, -78.919453 42....</td>\n",
       "      <td>POINT (-78.91765636943175 42.82735665851042)</td>\n",
       "      <td>0</td>\n",
       "      <td>0</td>\n",
       "    </tr>\n",
       "    <tr>\n",
       "      <th>1</th>\n",
       "      <td>1</td>\n",
       "      <td>POLYGON ((-78.919453 42.82867431702084, -78.91...</td>\n",
       "      <td>POINT (-78.91765636943175 42.82999191935585)</td>\n",
       "      <td>0</td>\n",
       "      <td>0</td>\n",
       "    </tr>\n",
       "    <tr>\n",
       "      <th>2</th>\n",
       "      <td>3</td>\n",
       "      <td>POLYGON ((-78.919453 42.83130952169087, -78.91...</td>\n",
       "      <td>POINT (-78.91765636943177 42.83262706785007)</td>\n",
       "      <td>0</td>\n",
       "      <td>0</td>\n",
       "    </tr>\n",
       "    <tr>\n",
       "      <th>3</th>\n",
       "      <td>1</td>\n",
       "      <td>POLYGON ((-78.919453 42.83394461400928, -78.91...</td>\n",
       "      <td>POINT (-78.91765636943177 42.83526210399228)</td>\n",
       "      <td>0</td>\n",
       "      <td>0</td>\n",
       "    </tr>\n",
       "    <tr>\n",
       "      <th>4</th>\n",
       "      <td>5</td>\n",
       "      <td>POLYGON ((-78.919453 42.83657959397529, -78.91...</td>\n",
       "      <td>POINT (-78.91765636943175 42.8378970277817)</td>\n",
       "      <td>0</td>\n",
       "      <td>0</td>\n",
       "    </tr>\n",
       "  </tbody>\n",
       "</table>\n",
       "</div>"
      ],
      "text/plain": [
       "   my_value                                           geometry  \\\n",
       "0         4  POLYGON ((-78.919453 42.826039, -78.919453 42....   \n",
       "1         1  POLYGON ((-78.919453 42.82867431702084, -78.91...   \n",
       "2         3  POLYGON ((-78.919453 42.83130952169087, -78.91...   \n",
       "3         1  POLYGON ((-78.919453 42.83394461400928, -78.91...   \n",
       "4         5  POLYGON ((-78.919453 42.83657959397529, -78.91...   \n",
       "\n",
       "                                       centroid  number_options  \\\n",
       "0  POINT (-78.91765636943175 42.82735665851042)               0   \n",
       "1  POINT (-78.91765636943175 42.82999191935585)               0   \n",
       "2  POINT (-78.91765636943177 42.83262706785007)               0   \n",
       "3  POINT (-78.91765636943177 42.83526210399228)               0   \n",
       "4   POINT (-78.91765636943175 42.8378970277817)               0   \n",
       "\n",
       "   number_options_produce  \n",
       "0                       0  \n",
       "1                       0  \n",
       "2                       0  \n",
       "3                       0  \n",
       "4                       0  "
      ]
     },
     "execution_count": 180,
     "metadata": {},
     "output_type": "execute_result"
    }
   ],
   "source": [
    "grid.head()"
   ]
  },
  {
   "cell_type": "code",
   "execution_count": 182,
   "metadata": {},
   "outputs": [],
   "source": [
    "grid[['geometry', 'number_options', 'number_options_produce']].to_file('../data/processed/food_index.geojson', driver='GeoJSON')"
   ]
  },
  {
   "cell_type": "code",
   "execution_count": 199,
   "metadata": {},
   "outputs": [],
   "source": [
    "buffalo = gpd.read_file('../data/raw/buffalo_municipal_boundary.geojson')"
   ]
  },
  {
   "cell_type": "code",
   "execution_count": 200,
   "metadata": {},
   "outputs": [
    {
     "data": {
      "text/plain": [
       "<matplotlib.axes._subplots.AxesSubplot at 0x12422e7b8>"
      ]
     },
     "execution_count": 200,
     "metadata": {},
     "output_type": "execute_result"
    },
    {
     "data": {
      "image/png": "[encoded data removed]",
      "text/plain": [
       "<Figure size 432x288 with 1 Axes>"
      ]
     },
     "metadata": {
      "needs_background": "light"
     },
     "output_type": "display_data"
    }
   ],
   "source": [
    "buffalo.plot()"
   ]
  },
  {
   "cell_type": "code",
   "execution_count": 219,
   "metadata": {},
   "outputs": [
    {
     "name": "stdout",
     "output_type": "stream",
     "text": [
      "/Users/andrew/Documents/personal/food_desert_proto/src\n"
     ]
    }
   ],
   "source": [
    "import os\n",
    "cwd = os.getcwd()\n",
    "print(cwd)"
   ]
  },
  {
   "cell_type": "code",
   "execution_count": 220,
   "metadata": {},
   "outputs": [
    {
     "data": {
      "image/png": "[encoded data removed]",
      "text/plain": [
       "<Figure size 1080x1080 with 1 Axes>"
      ]
     },
     "metadata": {
      "needs_background": "light"
     },
     "output_type": "display_data"
    }
   ],
   "source": [
    "# cities_with_country = geopandas.sjoin(cities, countries, how=\"inner\", op='intersects')\n",
    "fig, ax = plt.subplots(figsize=(15,15))\n",
    "ax.set_aspect('equal')\n",
    "ax.axis('off')\n",
    "gpd.sjoin(grid, buffalo, how='inner', op='intersects').plot(column='number_options_produce', ax=ax)\n",
    "\n",
    "filepath = '../img/map'\n",
    "plt.savefig(filepath, dpi=300)"
   ]
  },
  {
   "cell_type": "code",
   "execution_count": 205,
   "metadata": {},
   "outputs": [],
   "source": [
    "trimmed_grid = gpd.sjoin(grid, buffalo, how='inner', op='intersects')"
   ]
  },
  {
   "cell_type": "code",
   "execution_count": 207,
   "metadata": {},
   "outputs": [],
   "source": [
    "trimmed_grid[['geometry', 'number_options', 'number_options_produce']].to_file('../data/processed/food_index_trimmed.geojson', driver='GeoJSON')"
   ]
  },
  {
   "cell_type": "code",
   "execution_count": null,
   "metadata": {},
   "outputs": [],
   "source": []
  }
 ],
 "metadata": {
  "kernelspec": {
   "display_name": "Python 3",
   "language": "python",
   "name": "python3"
  },
  "language_info": {
   "codemirror_mode": {
    "name": "ipython",
    "version": 3
   },
   "file_extension": ".py",
   "mimetype": "text/x-python",
   "name": "python",
   "nbconvert_exporter": "python",
   "pygments_lexer": "ipython3",
   "version": "3.6.6"
  }
 },
 "nbformat": 4,
 "nbformat_minor": 2
}
